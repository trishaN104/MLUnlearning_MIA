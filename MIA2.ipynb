{
 "cells": [
  {
   "cell_type": "code",
   "execution_count": 9,
   "metadata": {},
   "outputs": [],
   "source": [
    "import numpy as np\n",
    "import pandas as pd\n",
    "import matplotlib.pyplot as plt\n",
    "from sklearn.preprocessing import OrdinalEncoder, OneHotEncoder\n",
    "from sklearn.linear_model import LogisticRegression\n",
    "from sklearn.model_selection import train_test_split\n",
    "from sklearn.preprocessing import StandardScaler\n",
    "from sklearn.metrics import accuracy_score\n",
    "from sklearn.compose import ColumnTransformer\n",
    "import pickle\n",
    "from imblearn.over_sampling import RandomOverSampler"
   ]
  },
  {
   "cell_type": "code",
   "execution_count": 10,
   "metadata": {},
   "outputs": [
    {
     "name": "stdout",
     "output_type": "stream",
     "text": [
      "\n",
      "Saving processed data...\n",
      "\n",
      "=== Final Data Shapes ===\n",
      "Balanced training: (55988, 27) (was 35994)\n",
      "Test set: (8999, 27)\n",
      "\n",
      "=== Class Distribution ===\n",
      "Training: loan_status\n",
      "0    0.5\n",
      "1    0.5\n",
      "Name: proportion, dtype: float64\n",
      "Test: loan_status\n",
      "0    0.777753\n",
      "1    0.222247\n",
      "Name: proportion, dtype: float64\n"
     ]
    }
   ],
   "source": [
    "\n",
    "# Load and clean data\n",
    "df = pd.read_csv(\"/Users/trishanandakumar/Desktop/BURE/Datasets/loan_data.csv\")\n",
    "df = df[df['person_age'] <= 100]\n",
    "\n",
    "# Define features and target\n",
    "target_col = 'loan_status'\n",
    "X = df.drop(target_col, axis=1)\n",
    "y = df[target_col]\n",
    "\n",
    "# Column types\n",
    "categorical_cols = [\n",
    "    'person_gender', 'person_education', 'person_home_ownership',\n",
    "    'loan_intent', 'previous_loan_defaults_on_file'\n",
    "]\n",
    "numerical_cols = [\n",
    "    'person_age', 'person_income', 'person_emp_exp', 'loan_amnt',\n",
    "    'loan_int_rate', 'loan_percent_income', 'cb_person_cred_hist_length', \n",
    "    'credit_score'\n",
    "]\n",
    "\n",
    "# Preprocessor\n",
    "preprocessor = ColumnTransformer(\n",
    "    transformers=[\n",
    "        ('num', StandardScaler(), numerical_cols),\n",
    "        ('cat', OneHotEncoder(handle_unknown='ignore'), categorical_cols)\n",
    "    ],\n",
    "    remainder='drop'\n",
    ")\n",
    "\n",
    "# Train-test split\n",
    "X_train, X_test, y_train, y_test = train_test_split(\n",
    "    X, y, test_size=0.2, random_state=42, stratify=y\n",
    ")\n",
    "\n",
    "# Preprocess FIRST\n",
    "X_train_preprocessed = preprocessor.fit_transform(X_train)\n",
    "X_test_preprocessed = preprocessor.transform(X_test)\n",
    "\n",
    "# Get feature names\n",
    "cat_encoder = preprocessor.named_transformers_['cat']\n",
    "cat_features = cat_encoder.get_feature_names_out(categorical_cols)\n",
    "all_features = numerical_cols + list(cat_features)\n",
    "\n",
    "# Apply oversampling AFTER preprocessing\n",
    "ros = RandomOverSampler(random_state=42)\n",
    "X_train_balanced, y_train_balanced = ros.fit_resample(X_train_preprocessed, y_train)\n",
    "\n",
    "# Convert to DataFrames\n",
    "train_df = pd.DataFrame(X_train_balanced, columns=all_features)\n",
    "test_df = pd.DataFrame(X_test_preprocessed, columns=all_features)\n",
    "\n",
    "# Save files\n",
    "print(\"\\nSaving processed data...\")\n",
    "train_df.to_csv('train_preprocessed_balanced.csv', index=False)\n",
    "test_df.to_csv('test_preprocessed.csv', index=False)\n",
    "pd.Series(y_train_balanced).to_csv('y_train_balanced.csv', index=False)\n",
    "y_test.to_csv('y_test.csv', index=False)\n",
    "\n",
    "with open('preprocessor.pkl', 'wb') as f:\n",
    "    pickle.dump(preprocessor, f)\n",
    "\n",
    "# Verification\n",
    "print(\"\\n=== Final Data Shapes ===\")\n",
    "print(f\"Balanced training: {train_df.shape} (was {len(X_train)})\")\n",
    "print(f\"Test set: {test_df.shape}\")\n",
    "\n",
    "print(\"\\n=== Class Distribution ===\")\n",
    "print(\"Training:\", pd.Series(y_train_balanced).value_counts(normalize=True))\n",
    "print(\"Test:\", y_test.value_counts(normalize=True))"
   ]
  },
  {
   "cell_type": "code",
   "execution_count": 11,
   "metadata": {},
   "outputs": [
    {
     "name": "stdout",
     "output_type": "stream",
     "text": [
      "Missing values in training: 0\n",
      "Feature ranges:\n",
      "     person_age  person_income  person_emp_exp  loan_amnt  loan_int_rate  \\\n",
      "min   -1.310952      -1.116102       -0.910595  -1.441765      -1.874019   \n",
      "max   11.195475      36.586270       11.893174   4.038462       3.018224   \n",
      "\n",
      "     loan_percent_income  cb_person_cred_hist_length  credit_score  \\\n",
      "min            -1.603884                   -0.999141     -4.819047   \n",
      "max             5.986942                    6.219822      3.005230   \n",
      "\n",
      "     person_gender_female  person_gender_male  ...  person_home_ownership_OWN  \\\n",
      "min                   0.0                 0.0  ...                        0.0   \n",
      "max                   1.0                 1.0  ...                        1.0   \n",
      "\n",
      "     person_home_ownership_RENT  loan_intent_DEBTCONSOLIDATION  \\\n",
      "min                         0.0                            0.0   \n",
      "max                         1.0                            1.0   \n",
      "\n",
      "     loan_intent_EDUCATION  loan_intent_HOMEIMPROVEMENT  loan_intent_MEDICAL  \\\n",
      "min                    0.0                          0.0                  0.0   \n",
      "max                    1.0                          1.0                  1.0   \n",
      "\n",
      "     loan_intent_PERSONAL  loan_intent_VENTURE  \\\n",
      "min                   0.0                  0.0   \n",
      "max                   1.0                  1.0   \n",
      "\n",
      "     previous_loan_defaults_on_file_No  previous_loan_defaults_on_file_Yes  \n",
      "min                                0.0                                 0.0  \n",
      "max                                1.0                                 1.0  \n",
      "\n",
      "[2 rows x 27 columns]\n"
     ]
    }
   ],
   "source": [
    "# Quick check for any preprocessing artifacts\n",
    "print(\"Missing values in training:\", train_df.isna().sum().sum())\n",
    "print(\"Feature ranges:\")\n",
    "print(train_df.describe().loc[['min', 'max']])"
   ]
  },
  {
   "cell_type": "code",
   "execution_count": 12,
   "metadata": {},
   "outputs": [
    {
     "name": "stdout",
     "output_type": "stream",
     "text": [
      "\n",
      "Training accuracy: 0.880813745802672\n",
      "Test accuracy: 0.8489832203578175\n"
     ]
    }
   ],
   "source": [
    "from sklearn.linear_model import LogisticRegression\n",
    "\n",
    "model = LogisticRegression(max_iter=1000, class_weight='balanced')\n",
    "model.fit(train_df, y_train_balanced)\n",
    "\n",
    "# Verify it learned\n",
    "print(\"\\nTraining accuracy:\", model.score(train_df, y_train_balanced))\n",
    "print(\"Test accuracy:\", model.score(test_df, y_test))"
   ]
  },
  {
   "cell_type": "code",
   "execution_count": 14,
   "metadata": {},
   "outputs": [
    {
     "name": "stdout",
     "output_type": "stream",
     "text": [
      "Forget set size: 34608 samples\n"
     ]
    }
   ],
   "source": [
    "# Get high-confidence samples for forget set\n",
    "probs = model.predict_proba(train_df)\n",
    "confidence = probs.max(axis=1)\n",
    "forget_set = train_df[confidence > 0.9]  # Top 10% most confident predictions\n",
    "\n",
    "print(f\"Forget set size: {len(forget_set)} samples\")\n",
    "\n",
    "# Save as compressed format for large files\n",
    "train_df.to_csv('train_balanced.csv.gz', index=False, compression='gzip')"
   ]
  }
 ],
 "metadata": {
  "kernelspec": {
   "display_name": "base",
   "language": "python",
   "name": "python3"
  },
  "language_info": {
   "codemirror_mode": {
    "name": "ipython",
    "version": 3
   },
   "file_extension": ".py",
   "mimetype": "text/x-python",
   "name": "python",
   "nbconvert_exporter": "python",
   "pygments_lexer": "ipython3",
   "version": "3.12.7"
  }
 },
 "nbformat": 4,
 "nbformat_minor": 2
}
